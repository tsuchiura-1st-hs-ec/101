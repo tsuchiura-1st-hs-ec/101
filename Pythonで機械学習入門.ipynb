{
  "nbformat": 4,
  "nbformat_minor": 0,
  "metadata": {
    "colab": {
      "name": "Pythonで機械学習入門.ipynb",
      "version": "0.3.2",
      "provenance": [],
      "include_colab_link": true
    },
    "kernelspec": {
      "name": "python3",
      "display_name": "Python 3"
    }
  },
  "cells": [
    {
      "cell_type": "markdown",
      "metadata": {
        "id": "view-in-github",
        "colab_type": "text"
      },
      "source": [
        "<a href=\"https://colab.research.google.com/github/tsuchiura1st-hs/101/blob/master/Python%E3%81%A7%E6%A9%9F%E6%A2%B0%E5%AD%A6%E7%BF%92%E5%85%A5%E9%96%80.ipynb\" target=\"_parent\"><img src=\"https://colab.research.google.com/assets/colab-badge.svg\" alt=\"Open In Colab\"/></a>"
      ]
    },
    {
      "cell_type": "markdown",
      "metadata": {
        "id": "cxDN46q7Y2wy",
        "colab_type": "text"
      },
      "source": [
        "# This Jupyter Notebook is created for the study of Machine Learning."
      ]
    },
    {
      "cell_type": "code",
      "metadata": {
        "id": "5l0rPN5bWKRs",
        "colab_type": "code",
        "outputId": "bc2f47ed-76ef-41f0-e897-7a40a2e506b8",
        "colab": {
          "base_uri": "https://localhost:8080/",
          "height": 269
        }
      },
      "source": [
        "import numpy as np;\n",
        "import matplotlib.pyplot as plt;\n",
        "D = 100;\n",
        "N = 2;\n",
        "xdata = np.random.randn(D*N).reshape(D,N);\n",
        "plt.scatter(xdata[:,0],xdata[:,1]);\n",
        "plt.show();\n",
        "def f(x):\n",
        "  y=x**2;\n",
        "  return y;"
      ],
      "execution_count": 0,
      "outputs": [
        {
          "output_type": "display_data",
          "data": {
            "image/png": "[encoded data removed]",
            "text/plain": [
              "<Figure size 432x288 with 1 Axes>"
            ]
          },
          "metadata": {
            "tags": []
          }
        }
      ]
    },
    {
      "cell_type": "code",
      "metadata": {
        "id": "dsLOUihVY3KG",
        "colab_type": "code",
        "colab": {}
      },
      "source": [
        ""
      ],
      "execution_count": 0,
      "outputs": []
    }
  ]
}